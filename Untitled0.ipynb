{
  "nbformat": 4,
  "nbformat_minor": 0,
  "metadata": {
    "colab": {
      "provenance": [],
      "authorship_tag": "ABX9TyMkK1ZxW0y5cA4eEouVsC+b",
      "include_colab_link": true
    },
    "kernelspec": {
      "name": "python3",
      "display_name": "Python 3"
    },
    "language_info": {
      "name": "python"
    }
  },
  "cells": [
    {
      "cell_type": "markdown",
      "metadata": {
        "id": "view-in-github",
        "colab_type": "text"
      },
      "source": [
        "<a href=\"https://colab.research.google.com/github/nikao728/INFO3-BD2/blob/main/Untitled0.ipynb\" target=\"_parent\"><img src=\"https://colab.research.google.com/assets/colab-badge.svg\" alt=\"Open In Colab\"/></a>"
      ]
    },
    {
      "cell_type": "code",
      "execution_count": 1,
      "metadata": {
        "colab": {
          "base_uri": "https://localhost:8080/",
          "height": 106
        },
        "id": "IxydqSktJkig",
        "outputId": "a905f251-e298-449f-f819-c314762c5ec1"
      },
      "outputs": [
        {
          "output_type": "error",
          "ename": "SyntaxError",
          "evalue": "invalid syntax (ipython-input-1-2547421970.py, line 2)",
          "traceback": [
            "\u001b[0;36m  File \u001b[0;32m\"/tmp/ipython-input-1-2547421970.py\"\u001b[0;36m, line \u001b[0;32m2\u001b[0m\n\u001b[0;31m    +------------+------+\u001b[0m\n\u001b[0m                         ^\u001b[0m\n\u001b[0;31mSyntaxError\u001b[0m\u001b[0;31m:\u001b[0m invalid syntax\n"
          ]
        }
      ],
      "source": [
        "produto\n",
        "+------------+------+\n",
        "| idProduto  | PK   |\n",
        "| tipo       |      |\n",
        "| descItem   |      |\n",
        "| vlPreco    |      |\n",
        "+------------+------+\n",
        "\n",
        "pedido\n",
        "+------------+------+\n",
        "| idPedido   | PK   |\n",
        "| dtPedido   |      |\n",
        "| flKetchup  |      |\n",
        "| descUF     |      |\n",
        "| txtRecado  |      |\n",
        "+------------+------+\n",
        "\n",
        "item_pedido\n",
        "+------------+-------------------+\n",
        "| idPedido   | PK, FK -> pedido  |\n",
        "| idProduto  | PK, FK -> produto |\n",
        "| quantidade |                   |\n",
        "+------------+-------------------+"
      ]
    }
  ]
}